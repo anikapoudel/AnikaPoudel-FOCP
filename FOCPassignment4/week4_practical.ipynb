{
 "cells": [
  {
   "cell_type": "markdown",
   "id": "fcce5b95",
   "metadata": {},
   "source": [
    "1. Functions are often used to validate input. Write a function that accepts a single integer as a parameter and returns True if the integer is in the range 0 to 100 (inclusive), or False otherwise. Write a short program to test the function."
   ]
  },
  {
   "cell_type": "code",
   "execution_count": 4,
   "id": "f0579eef",
   "metadata": {},
   "outputs": [],
   "source": [
    "def in_range(num):\n",
    "    if 0<=num<=100:\n",
    "        return True\n",
    "    else:\n",
    "        return False"
   ]
  },
  {
   "cell_type": "code",
   "execution_count": 5,
   "id": "4d80ced7",
   "metadata": {},
   "outputs": [
    {
     "data": {
      "text/plain": [
       "True"
      ]
     },
     "execution_count": 5,
     "metadata": {},
     "output_type": "execute_result"
    }
   ],
   "source": [
    "in_range(0)"
   ]
  },
  {
   "cell_type": "markdown",
   "id": "c8e0738c",
   "metadata": {},
   "source": [
    "2. Write a function that has a single string as its parameter, and returns the number of uppercase letters, and the number of lowercase letters in the string. Test the function with a short program."
   ]
  },
  {
   "cell_type": "code",
   "execution_count": 20,
   "id": "064785e1",
   "metadata": {},
   "outputs": [
    {
     "name": "stdout",
     "output_type": "stream",
     "text": [
      "Enter a string: HelloABC\n",
      "Number of uppercase letters: 4\n",
      "Number of lowercase letters: 4\n"
     ]
    }
   ],
   "source": [
    "def count_upper_lower(input_string):\n",
    "    upper_count = 0\n",
    "    lower_count = 0\n",
    "\n",
    "    for char in input_string:\n",
    "        if char.isupper():\n",
    "            upper_count += 1\n",
    "        elif char.islower():\n",
    "            lower_count += 1\n",
    "\n",
    "    return upper_count, lower_count\n",
    "\n",
    "user_input = input(\"Enter a string: \")\n",
    "upper, lower = count_upper_lower(user_input)\n",
    "\n",
    "print(f\"Number of uppercase letters: {upper}\")\n",
    "print(f\"Number of lowercase letters: {lower}\")\n"
   ]
  },
  {
   "cell_type": "markdown",
   "id": "63132f98",
   "metadata": {},
   "source": [
    "3. Modify your \"greetings\" program so that the first letter of the name entered is always in uppercase with the rest in lowercase. This should happen even if the user entered their name differently. So if the user entered arthur, ARTHUR, or even arTHur the name should be displayed as Arthur."
   ]
  },
  {
   "cell_type": "code",
   "execution_count": 1,
   "id": "420754b6",
   "metadata": {},
   "outputs": [
    {
     "name": "stdout",
     "output_type": "stream",
     "text": [
      "Enter your name: Anika\n",
      "Hello, Anika!\n"
     ]
    }
   ],
   "source": [
    "def greet():\n",
    "    name = input(\"Enter your name: \")\n",
    "    formatted_name = name[0].upper()+name[1::].lower()\n",
    "    print(f\"Hello, {formatted_name}!\")\n",
    "greet()"
   ]
  },
  {
   "cell_type": "markdown",
   "id": "525adf75",
   "metadata": {},
   "source": [
    "4. When processing data it is often useful to remove the last character from some input (it is often a newline). Write and test a function that takes a string parameter and returns it with the last character removed. (If the string contains one or fewer characters, return it unchanged.)"
   ]
  },
  {
   "cell_type": "code",
   "execution_count": 24,
   "id": "2a0a263b",
   "metadata": {},
   "outputs": [
    {
     "data": {
      "text/plain": [
       "'H'"
      ]
     },
     "execution_count": 24,
     "metadata": {},
     "output_type": "execute_result"
    }
   ],
   "source": [
    "def remove_last_char(s):\n",
    "    if len(s) > 1:\n",
    "        return s[:-1]\n",
    "    else:\n",
    "        return s\n",
    "remove_last_char(\"H\")"
   ]
  },
  {
   "cell_type": "markdown",
   "id": "ca52c00d",
   "metadata": {},
   "source": [
    "5. Write and test a function that converts a temperature measured in degrees centigrade into the equivalent in fahrenheit, and another that does the reverse conversion. Test both functions. (Google will find you the formulae)."
   ]
  },
  {
   "cell_type": "code",
   "execution_count": 29,
   "id": "71959ae5",
   "metadata": {},
   "outputs": [],
   "source": [
    "def celsius_to_fahrenheit(celsius):\n",
    "    return (celsius * 9/5) + 32\n",
    "def fahrenheit_to_celsius(fahrenheit):\n",
    "    return (fahrenheit - 32) * 5/9"
   ]
  },
  {
   "cell_type": "code",
   "execution_count": 30,
   "id": "f2d8d2e6",
   "metadata": {},
   "outputs": [
    {
     "data": {
      "text/plain": [
       "98.6"
      ]
     },
     "execution_count": 30,
     "metadata": {},
     "output_type": "execute_result"
    }
   ],
   "source": [
    "celsius_to_fahrenheit(37)"
   ]
  },
  {
   "cell_type": "code",
   "execution_count": 31,
   "id": "bb94b066",
   "metadata": {},
   "outputs": [
    {
     "data": {
      "text/plain": [
       "37.77777777777778"
      ]
     },
     "execution_count": 31,
     "metadata": {},
     "output_type": "execute_result"
    }
   ],
   "source": [
    "fahrenheit_to_celsius(100)"
   ]
  },
  {
   "cell_type": "markdown",
   "id": "eda34ece",
   "metadata": {},
   "source": [
    "6. Write a program that takes a centigrade temperature and displays the equivalent in fahrenheit. The input should be a number followed by a letter C. The output should be in the same format.\n"
   ]
  },
  {
   "cell_type": "code",
   "execution_count": 40,
   "id": "7d8d895c",
   "metadata": {},
   "outputs": [
    {
     "name": "stdout",
     "output_type": "stream",
     "text": [
      "Enter temperature in Celsius (e.g., 25C): 90\n",
      "Please enter a number followed by 'C'.\n"
     ]
    }
   ],
   "source": [
    "def celsius_to_fahrenheit(celsius):\n",
    "    user_input = input(\"Enter temperature in Celsius (e.g., 25C): \")\n",
    "    if user_input[-1].upper() == 'C':\n",
    "        celsius_temperature = float(user_input[:-1])\n",
    "        converted_fahrenheit = (celsius_temperature * 9/5) + 32\n",
    "        print(f\"{user_input} is equal to {converted_fahrenheit:.2f}F.\")\n",
    "    else:\n",
    "        print(\"Please enter a number followed by 'C'.\")\n",
    "celsius_temperature=celsius_to_fahrenheit(user_input)"
   ]
  },
  {
   "cell_type": "markdown",
   "id": "6ebc5554",
   "metadata": {},
   "source": [
    "7. Write a program that reads 6 temperatures (in the same format as before), and displays the maximum, minimum, and mean of the values.\n",
    "Hint: You should know there are built-in functions for max and min. If you hunt, you might also find one for the mean."
   ]
  },
  {
   "cell_type": "code",
   "execution_count": null,
   "id": "a6d8defa",
   "metadata": {},
   "outputs": [],
   "source": [
    "def celsius_to_fahrenheit(celsius):\n",
    "    return (celsius * 9/5) + 32\n",
    "temperatures = []\n",
    "for i in range(6):\n",
    "    temp_celsius = float(input(f\"Enter temperature {i + 1} in Celsius: \"))\n",
    "    temperatures.append(temp_celsius)\n",
    "temperatures_fahrenheit = [celsius_to_fahrenheit(temp) for temp in temperatures]\n",
    "max_temp = max(temperatures_fahrenheit)\n",
    "min_temp = min(temperatures_fahrenheit)\n",
    "mean_temp = sum(temperatures_fahrenheit) / len(temperatures_fahrenheit)\n",
    "print(f\"\\nMaximum Temperature: {max_temp:.2f}°F\")\n",
    "print(f\"Minimum Temperature: {min_temp:.2f}°F\")\n",
    "print(f\"Mean Temperature: {mean_temp:.2f}°F\")\n"
   ]
  },
  {
   "cell_type": "markdown",
   "id": "91fe8fa8",
   "metadata": {},
   "source": [
    "8. Modify the previous program so that it can process any number of values. The input terminates when the user just pressed \"Enter\" at the prompt rather than entering a value."
   ]
  },
  {
   "cell_type": "code",
   "execution_count": 41,
   "id": "e5efc7d5",
   "metadata": {},
   "outputs": [
    {
     "name": "stdout",
     "output_type": "stream",
     "text": [
      "Enter temperature in Celsius (press Enter to finish): 90\n",
      "Enter temperature in Celsius (press Enter to finish): 80\n",
      "Enter temperature in Celsius (press Enter to finish): 70\n",
      "Enter temperature in Celsius (press Enter to finish): 60\n",
      "Enter temperature in Celsius (press Enter to finish): 50\n",
      "Enter temperature in Celsius (press Enter to finish): \n",
      "\n",
      "Maximum Temperature: 194.00°F\n",
      "Minimum Temperature: 122.00°F\n",
      "Mean Temperature: 158.00°F\n"
     ]
    }
   ],
   "source": [
    "def celsius_to_fahrenheit(celsius):\n",
    "    return (celsius * 9/5) + 32\n",
    "temperatures = []\n",
    "while True:\n",
    "    user_input = input(\"Enter temperature in Celsius (press Enter to finish): \")\n",
    "    if user_input == \"\":\n",
    "        break\n",
    "    else:\n",
    "        temp_celsius = float(user_input)\n",
    "        temperatures.append(temp_celsius)\n",
    "if temperatures:\n",
    "    temperatures_fahrenheit = [celsius_to_fahrenheit(temp) for temp in temperatures]\n",
    "    max_temp = max(temperatures_fahrenheit)\n",
    "    min_temp = min(temperatures_fahrenheit)\n",
    "    mean_temp = sum(temperatures_fahrenheit) / len(temperatures_fahrenheit)\n",
    "\n",
    "    print(f\"\\nMaximum Temperature: {max_temp:.2f}°F\")\n",
    "    print(f\"Minimum Temperature: {min_temp:.2f}°F\")\n",
    "    print(f\"Mean Temperature: {mean_temp:.2f}°F\")\n",
    "else:\n",
    "    print(\"No temperatures were entered.\")\n"
   ]
  }
 ],
 "metadata": {
  "kernelspec": {
   "display_name": "Python 3 (ipykernel)",
   "language": "python",
   "name": "python3"
  },
  "language_info": {
   "codemirror_mode": {
    "name": "ipython",
    "version": 3
   },
   "file_extension": ".py",
   "mimetype": "text/x-python",
   "name": "python",
   "nbconvert_exporter": "python",
   "pygments_lexer": "ipython3",
   "version": "3.9.13"
  }
 },
 "nbformat": 4,
 "nbformat_minor": 5
}
