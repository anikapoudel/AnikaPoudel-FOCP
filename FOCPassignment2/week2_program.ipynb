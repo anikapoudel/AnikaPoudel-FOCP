{
 "cells": [
  {
   "cell_type": "markdown",
   "id": "6739a27f",
   "metadata": {},
   "source": [
    "1. Last week you wrote a program that printed out a cheery greeting including your name. Take a copy of it, and modify it so that the user enters their name at the keyboard, and then receives a greeting. For example:\n",
    "Hello, what is your name? Mr Apricot\n",
    "Hello, Mr Apricot. Good to meet you!"
   ]
  },
  {
   "cell_type": "code",
   "execution_count": 1,
   "id": "9506b5a8",
   "metadata": {},
   "outputs": [
    {
     "name": "stdout",
     "output_type": "stream",
     "text": [
      "Hello, what is your name? Mr Apricot\n",
      "Hello, Mr Apricot. Good to meet you!\n"
     ]
    }
   ],
   "source": [
    "name = input(\"Hello, what is your name? \")\n",
    "print(f\"Hello, {name}. Good to meet you!\")"
   ]
  },
  {
   "cell_type": "markdown",
   "id": "086649e1",
   "metadata": {},
   "source": [
    "2. Write a program that prompts a user to enter a temperature in Celsius, and then displays the corresponding temperature in Fahrenheit, like so:\n",
    "Enter a temperature in Celsius: 32.5\n",
    "32.5C is equivalent to 90.5F. "
   ]
  },
  {
   "cell_type": "code",
   "execution_count": 2,
   "id": "e114a3ec",
   "metadata": {},
   "outputs": [
    {
     "name": "stdout",
     "output_type": "stream",
     "text": [
      "Enter a temperature in Celsius: 32.5\n",
      "32.5C is equivalent to 90.5F.\n"
     ]
    }
   ],
   "source": [
    "celsius = float(input(\"Enter a temperature in Celsius: \"))\n",
    "fahrenheit = (celsius * 9/5) + 32\n",
    "print(f\"{celsius}C is equivalent to {fahrenheit}F.\")"
   ]
  },
  {
   "cell_type": "markdown",
   "id": "b5b3c315",
   "metadata": {},
   "source": [
    "3. The Head of Computing at the University of Poppleton is tasked with dividing a group of students into lab groups. A lab group is usually 24 students, but this is sometimes varied to create groups of similar size. Write a program that prompts for the number of students and group size, and then displays how many groups will be needed and how many will be left over in a smaller group.\n",
    "How many students? 113\n",
    "Required group size? 22\n",
    "There will be 5 groups with 3 students left over.\n",
    "For bonus credit, see if you can fix the grammar in the output. So if there were 101 students in groups of 20 the output would be:\n",
    "There will be 5 groups with 1 student left over."
   ]
  },
  {
   "cell_type": "code",
   "execution_count": 5,
   "id": "9c5b8288",
   "metadata": {},
   "outputs": [
    {
     "name": "stdout",
     "output_type": "stream",
     "text": [
      "How many students? 101\n",
      "Required group size? 20\n",
      "There will be 5 groups with 1 student left over.\n"
     ]
    }
   ],
   "source": [
    "students = int(input(\"How many students? \"))\n",
    "group_size = int(input(\"Required group size? \"))\n",
    "groups = students // group_size\n",
    "leftover_students = students % group_size\n",
    "text = \"students\" if leftover_students != 1 else \"student\"\n",
    "print(f\"There will be {groups} groups with {leftover_students} {text} left over.\")"
   ]
  },
  {
   "cell_type": "markdown",
   "id": "c9667d76",
   "metadata": {},
   "source": [
    "4. A kindly teacher wishes to distribute a tub of sweets between her pupils. She will first count the sweets and then divide them according to how many pupils attend that day. Write a program that will tell the teacher how many sweets to give to each pupil, and how many she will have left over. "
   ]
  },
  {
   "cell_type": "code",
   "execution_count": 6,
   "id": "95216c3b",
   "metadata": {},
   "outputs": [
    {
     "name": "stdout",
     "output_type": "stream",
     "text": [
      "Enter the total number of sweets: 100\n",
      "Enter the number of pupils: 20\n",
      "Each pupil receives 5 sweets.\n",
      "There will be 0 sweets left over.\n"
     ]
    }
   ],
   "source": [
    "total_sweets = int(input(\"Enter the total number of sweets: \"))\n",
    "num_pupils = int(input(\"Enter the number of pupils: \"))\n",
    "sweets_per_pupil = total_sweets // num_pupils\n",
    "leftover_sweets = total_sweets % num_pupils\n",
    "print(f\"Each pupil receives {sweets_per_pupil} sweets.\")\n",
    "print(f\"There will be {leftover_sweets} sweets left over.\")"
   ]
  }
 ],
 "metadata": {
  "kernelspec": {
   "display_name": "Python 3 (ipykernel)",
   "language": "python",
   "name": "python3"
  },
  "language_info": {
   "codemirror_mode": {
    "name": "ipython",
    "version": 3
   },
   "file_extension": ".py",
   "mimetype": "text/x-python",
   "name": "python",
   "nbconvert_exporter": "python",
   "pygments_lexer": "ipython3",
   "version": "3.9.13"
  }
 },
 "nbformat": 4,
 "nbformat_minor": 5
}
