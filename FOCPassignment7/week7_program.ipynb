{
 "cells": [
  {
   "cell_type": "markdown",
   "id": "976aa4d8",
   "metadata": {},
   "source": [
    "1. Write and test a function that takes a string as a parameter and returns a sorted list of all the unique letters used in the string. So, if the string is cheese, the list returned should be ['c', 'e', 'h', 's']."
   ]
  },
  {
   "cell_type": "code",
   "execution_count": 1,
   "id": "f5d36148",
   "metadata": {},
   "outputs": [
    {
     "data": {
      "text/plain": [
       "['c', 'e', 'h', 's']"
      ]
     },
     "execution_count": 1,
     "metadata": {},
     "output_type": "execute_result"
    }
   ],
   "source": [
    "def sorted_letters(string):\n",
    "    return sorted(set(string))\n",
    "sorted_letters(\"cheese\")"
   ]
  },
  {
   "cell_type": "markdown",
   "id": "70392027",
   "metadata": {},
   "source": [
    "2. Write and test three functions that each take two words (strings) as parameters and return sorted lists (as defined above) representing respectively:\n",
    "Letters that appear in at least one of the two words. Letters that appear in both words.\n",
    "Letters that appear in either word, but not in both.\n",
    "Hint: These could all be done programmatically, but consider carefully what topic we\n",
    "have been discussing this week! Each function can be exactly one line."
   ]
  },
  {
   "cell_type": "code",
   "execution_count": 2,
   "id": "e63fb0a8",
   "metadata": {},
   "outputs": [
    {
     "data": {
      "text/plain": [
       "['d', 'e', 'h', 'l', 'o', 'r', 'w']"
      ]
     },
     "execution_count": 2,
     "metadata": {},
     "output_type": "execute_result"
    }
   ],
   "source": [
    "def letters_in_either(word1, word2):\n",
    "    combined_letters = set(word1) | set(word2)\n",
    "    return sorted(combined_letters)\n",
    "letters_in_either(\"hello\",\"world\")"
   ]
  },
  {
   "cell_type": "code",
   "execution_count": 3,
   "id": "06263a96",
   "metadata": {},
   "outputs": [
    {
     "data": {
      "text/plain": [
       "['l', 'o']"
      ]
     },
     "execution_count": 3,
     "metadata": {},
     "output_type": "execute_result"
    }
   ],
   "source": [
    "def letters_in_both(word1, word2):\n",
    "    common_letters = set(word1) & set(word2)\n",
    "    return sorted(common_letters)\n",
    "letters_in_both(\"hello\",\"world\")"
   ]
  },
  {
   "cell_type": "code",
   "execution_count": 7,
   "id": "075da90c",
   "metadata": {},
   "outputs": [
    {
     "data": {
      "text/plain": [
       "['d', 'e', 'h', 'r', 'w']"
      ]
     },
     "execution_count": 7,
     "metadata": {},
     "output_type": "execute_result"
    }
   ],
   "source": [
    "def in_either_not_both(word1, word2):\n",
    "    combined_letters =set(word1) ^ set(word2)\n",
    "    return sorted(combined_letters)\n",
    "in_either_not_both(\"hello\",\"world\")"
   ]
  },
  {
   "cell_type": "markdown",
   "id": "4aa9b107",
   "metadata": {},
   "source": [
    "3. Write a program that manages a list of countries and their capital cities. It should prompt the user to enter the name of a country. If the program already \"knows\" the name of the capital city, it should display it. Otherwise it should ask the user to enter it. This should carry on until the user terminates the program (how this happens is up to you).\n",
    "Note: A good solution to this task will be able to cope with the country being entered\n",
    "variously as, for example, \"Wales\", \"wales\", \"WALES\" and so on."
   ]
  },
  {
   "cell_type": "code",
   "execution_count": 10,
   "id": "279d656f",
   "metadata": {},
   "outputs": [
    {
     "name": "stdout",
     "output_type": "stream",
     "text": [
      "Enter a country (or 'exit' to quit): japan\n",
      "Enter the capital of Japan: tokyo\n",
      "Tokyo has been added as the capital of Japan.\n",
      "Enter a country (or 'exit' to quit): japan\n",
      "The capital of Japan is Tokyo.\n",
      "Enter a country (or 'exit' to quit): exit\n",
      "Exiting the program. Goodbye!\n"
     ]
    }
   ],
   "source": [
    "def main():\n",
    "    country_capitals = {}\n",
    "    while True:\n",
    "        country = input(\"Enter a country (or 'exit' to quit): \").strip().lower()\n",
    "        if country == 'exit':\n",
    "            print(\"Exiting the program. Goodbye!\")\n",
    "            break\n",
    "        if country in country_capitals:\n",
    "            print(f\"The capital of {country.title()} is {country_capitals[country].title()}.\")\n",
    "        else:\n",
    "            capital = input(f\"Enter the capital of {country.title()}: \").strip().title()\n",
    "            country_capitals[country] = capital\n",
    "            print(f\"{capital} has been added as the capital of {country.title()}.\")\n",
    "if __name__ == \"__main__\":\n",
    "    main()"
   ]
  },
  {
   "cell_type": "markdown",
   "id": "1332b22b",
   "metadata": {},
   "source": [
    "4. One approach to analysing some encrypted data where a substitution is suspected is frequency analysis. A count of the different symbols in the message can be used to identify the language used, and sometimes some of the letters. In English, the most common letter is \"e\", and so the symbol representing \"e\" should appear most in the encrypted text.\n",
    "Write a program that processes a string representing a message and reports the six most common letters, along with the number of times they appear. Case should not matter, so \"E\" and \"e\" are considered the same.\n",
    "Hint: There are many ways to do this. It is obviously a dictionary, but we will want zero counts, so some initialisation is needed. Also, sorting dictionaries is tricky, so best to ignore that initially, and then check the usual resources for the runes."
   ]
  },
  {
   "cell_type": "code",
   "execution_count": 11,
   "id": "998cf833",
   "metadata": {},
   "outputs": [
    {
     "name": "stdout",
     "output_type": "stream",
     "text": [
      "Six most common letters and their frequencies:\n",
      "l: 4\n",
      "h: 2\n",
      "e: 2\n",
      "o: 2\n"
     ]
    }
   ],
   "source": [
    "def frequency_analysis(message):\n",
    "    letter_frequency = {}\n",
    "    message = message.lower()\n",
    "    for char in message:\n",
    "        if char.isalpha():\n",
    "            letter_frequency[char] = letter_frequency.get(char, 0) + 1\n",
    "    sorted_frequency = sorted(letter_frequency.items(), key=lambda x: x[1], reverse=True)\n",
    "    print(\"Six most common letters and their frequencies:\")\n",
    "    for letter, count in sorted_frequency[:6]:\n",
    "        print(f\"{letter}: {count}\")\n",
    "frequency_analysis(\"hellohello\")"
   ]
  },
  {
   "cell_type": "code",
   "execution_count": null,
   "id": "e3cf658c",
   "metadata": {},
   "outputs": [],
   "source": []
  }
 ],
 "metadata": {
  "kernelspec": {
   "display_name": "Python 3 (ipykernel)",
   "language": "python",
   "name": "python3"
  },
  "language_info": {
   "codemirror_mode": {
    "name": "ipython",
    "version": 3
   },
   "file_extension": ".py",
   "mimetype": "text/x-python",
   "name": "python",
   "nbconvert_exporter": "python",
   "pygments_lexer": "ipython3",
   "version": "3.9.13"
  }
 },
 "nbformat": 4,
 "nbformat_minor": 5
}
