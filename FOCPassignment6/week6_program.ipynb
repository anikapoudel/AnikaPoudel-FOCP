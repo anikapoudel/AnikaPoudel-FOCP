{
 "cells": [
  {
   "cell_type": "markdown",
   "id": "4228d3d2",
   "metadata": {},
   "source": [
    "\n",
    "1. Write a function that accepts a positive integer as a parameter and then returns a representation of that number in binary (base 2).\n",
    "Hint: This is in many ways a trick question. Think!"
   ]
  },
  {
   "cell_type": "code",
   "execution_count": 3,
   "id": "f83a7b21",
   "metadata": {},
   "outputs": [],
   "source": [
    "def dectobin(n): \n",
    "    if (n // 2) == 0: \n",
    "        return str(n % 2) \n",
    "    else: \n",
    "        return str(n % 2) + dectobin(n // 2) "
   ]
  },
  {
   "cell_type": "code",
   "execution_count": 4,
   "id": "266e9846",
   "metadata": {},
   "outputs": [
    {
     "data": {
      "text/plain": [
       "'101'"
      ]
     },
     "execution_count": 4,
     "metadata": {},
     "output_type": "execute_result"
    }
   ],
   "source": [
    "dectobin(5)"
   ]
  },
  {
   "cell_type": "markdown",
   "id": "6b70d878",
   "metadata": {},
   "source": [
    "2. Write and test a function that takes an integer as its parameter and returns the factors of that integer. (A factor is an integer which can be multiplied by another to yield the original)."
   ]
  },
  {
   "cell_type": "code",
   "execution_count": 7,
   "id": "9ebd4657",
   "metadata": {},
   "outputs": [],
   "source": [
    "def factors(n):\n",
    "    result = []\n",
    "\n",
    "    for i in range(1, n + 1):\n",
    "        if n % i == 0:\n",
    "            result.append(i)\n",
    "\n",
    "    return result"
   ]
  },
  {
   "cell_type": "code",
   "execution_count": 8,
   "id": "29623b76",
   "metadata": {},
   "outputs": [
    {
     "data": {
      "text/plain": [
       "[1, 3, 9]"
      ]
     },
     "execution_count": 8,
     "metadata": {},
     "output_type": "execute_result"
    }
   ],
   "source": [
    "factors(9)"
   ]
  },
  {
   "cell_type": "markdown",
   "id": "78a9f3bd",
   "metadata": {},
   "source": [
    "3. Write and test a function that determines if a given integer is a prime number. A prime number is an integer greater than 1 that cannot be produced by multiplying two other integers."
   ]
  },
  {
   "cell_type": "code",
   "execution_count": 9,
   "id": "6e49993b",
   "metadata": {},
   "outputs": [],
   "source": [
    "def test_prime(n):\n",
    "    if (n == 1):\n",
    "        return False\n",
    "    elif (n == 2):\n",
    "        return True\n",
    "    else:\n",
    "        for x in range(2, n):\n",
    "            if (n % x == 0):\n",
    "                return False\n",
    "        return True"
   ]
  },
  {
   "cell_type": "code",
   "execution_count": 13,
   "id": "0334530f",
   "metadata": {},
   "outputs": [
    {
     "data": {
      "text/plain": [
       "True"
      ]
     },
     "execution_count": 13,
     "metadata": {},
     "output_type": "execute_result"
    }
   ],
   "source": [
    "test_prime(7)"
   ]
  },
  {
   "cell_type": "markdown",
   "id": "7db47f1c",
   "metadata": {},
   "source": [
    "4. Computers are commonly used in encryption. A very simple form of encryption (more accurately \"obfuscation\") would be to remove the spaces from a message and reverse the resulting string. Write, and test, a function that takes a string containing a message and \"encrypts\" it in this way."
   ]
  },
  {
   "cell_type": "code",
   "execution_count": 27,
   "id": "61e177c7",
   "metadata": {},
   "outputs": [],
   "source": [
    "def encrypt(message):\n",
    "    encrypted_message = ''.join(message.split())[::-1]\n",
    "    return encrypted_message\n"
   ]
  },
  {
   "cell_type": "code",
   "execution_count": 26,
   "id": "7524b90d",
   "metadata": {},
   "outputs": [
    {
     "data": {
      "text/plain": [
       "'maamstressed'"
      ]
     },
     "execution_count": 26,
     "metadata": {},
     "output_type": "execute_result"
    }
   ],
   "source": [
    "encrypt(\"desserts maam\")"
   ]
  },
  {
   "cell_type": "markdown",
   "id": "9db1d04a",
   "metadata": {},
   "source": [
    "5. Another way to hide a message is to include the letters that make it up within seemingly random text. The letters of the message might be every fifth character, for example. Write and test a function that does such encryption. It should randomly generate an interval (between 2 and 20), space the message out accordingly, and should fill the gaps with random letters. The function should return the encrypted message and the interval used.\n",
    "For example, if the message is \"send cheese\", the random interval is 2, and for clarity the random letters are not random:\n",
    "send cheese\n",
    "sendcheese\n",
    "sxyexynxydxy cxyhxyexyexysxye"
   ]
  },
  {
   "cell_type": "code",
   "execution_count": 44,
   "id": "3914f14f",
   "metadata": {},
   "outputs": [
    {
     "data": {
      "text/plain": [
       "('scennadt hcxhgemeksieh', 2)"
      ]
     },
     "execution_count": 44,
     "metadata": {},
     "output_type": "execute_result"
    }
   ],
   "source": [
    "import random\n",
    "\n",
    "def encrypt(message):\n",
    "    interval = random.randint(2, 20)\n",
    "    encrypted_message = \"\"\n",
    "    msg_index = 0\n",
    "    while msg_index < len(message):\n",
    "        encrypted_message += message[msg_index]\n",
    "        for i in range(1, interval):\n",
    "            encrypted_message += chr(random.randint(97, 122))\n",
    "        msg_index += 1\n",
    "\n",
    "    return encrypted_message, interval\n",
    "encrypt(\"send cheese\")"
   ]
  },
  {
   "cell_type": "markdown",
   "id": "754b84ab",
   "metadata": {},
   "source": [
    "6. Write a program that decrypts messages encoded as above."
   ]
  },
  {
   "cell_type": "code",
   "execution_count": 45,
   "id": "07d75d9d",
   "metadata": {},
   "outputs": [
    {
     "data": {
      "text/plain": [
       "'send cheese'"
      ]
     },
     "execution_count": 45,
     "metadata": {},
     "output_type": "execute_result"
    }
   ],
   "source": [
    "def decrypt(encrypted_message, interval):\n",
    "    decrypted_message = \"\"\n",
    "    msg_index = 0\n",
    "    while msg_index < len(encrypted_message):\n",
    "        decrypted_message += encrypted_message[msg_index]\n",
    "        msg_index += interval\n",
    "    return decrypted_message\n",
    "\n",
    "decrypt('scennadt hcxhgemeksieh', 2)"
   ]
  },
  {
   "cell_type": "code",
   "execution_count": null,
   "id": "16aceeb6",
   "metadata": {},
   "outputs": [],
   "source": []
  }
 ],
 "metadata": {
  "kernelspec": {
   "display_name": "Python 3 (ipykernel)",
   "language": "python",
   "name": "python3"
  },
  "language_info": {
   "codemirror_mode": {
    "name": "ipython",
    "version": 3
   },
   "file_extension": ".py",
   "mimetype": "text/x-python",
   "name": "python",
   "nbconvert_exporter": "python",
   "pygments_lexer": "ipython3",
   "version": "3.9.13"
  }
 },
 "nbformat": 4,
 "nbformat_minor": 5
}
