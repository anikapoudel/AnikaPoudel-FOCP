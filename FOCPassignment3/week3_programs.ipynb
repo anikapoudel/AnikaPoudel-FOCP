{
 "cells": [
  {
   "cell_type": "markdown",
   "id": "1c7b2f91",
   "metadata": {},
   "source": [
    "1. Modify your greeting program so that if the user does not enter a name (i.e. they just press enter), the program responds \"Hello, Stranger!\". Otherwise it should print a greeting with their name as before."
   ]
  },
  {
   "cell_type": "code",
   "execution_count": 1,
   "id": "55a62a82",
   "metadata": {},
   "outputs": [
    {
     "name": "stdout",
     "output_type": "stream",
     "text": [
      "Enter your name\n",
      "Hello, Stranger!\n"
     ]
    }
   ],
   "source": [
    "name=input(\"Enter your name\")\n",
    "if name:\n",
    "    print(f\"Hello, {name}. Good to meet you.\")\n",
    "else:\n",
    "    print(\"Hello, Stranger!\")"
   ]
  },
  {
   "cell_type": "markdown",
   "id": "3d41b367",
   "metadata": {},
   "source": [
    "2. Write a program that simulates the way in which a user might choose a password. The program should prompt for a new password, and then prompt again. If the two passwords entered are the same the program should say \"Password Set\" or similar, otherwise it should report an error."
   ]
  },
  {
   "cell_type": "code",
   "execution_count": 3,
   "id": "02589d68",
   "metadata": {},
   "outputs": [
    {
     "name": "stdout",
     "output_type": "stream",
     "text": [
      "Enter a new password: hehehe\n",
      "Re-enter your password to confirm: hohoho\n",
      "The passwords do not match.\n"
     ]
    }
   ],
   "source": [
    "pw = input(\"Enter a new password: \")\n",
    "confirm_pw = input(\"Re-enter your password to confirm: \")\n",
    "if pw == confirm_pw:\n",
    "    print(\"Password Set.\")\n",
    "else:\n",
    "    print(\"The passwords do not match.\")"
   ]
  },
  {
   "cell_type": "markdown",
   "id": "cada1b00",
   "metadata": {},
   "source": [
    "3. Modify your previous program so that the password must be between 8 and 12 characters (inclusive) long."
   ]
  },
  {
   "cell_type": "code",
   "execution_count": 6,
   "id": "8ec33399",
   "metadata": {},
   "outputs": [
    {
     "name": "stdout",
     "output_type": "stream",
     "text": [
      "Enter a new password (8 to 12 characters): hohohugj\n",
      "Re-enter your password to confirm: gfdsr'gbd \n",
      "The passwords do not match.\n"
     ]
    }
   ],
   "source": [
    "pw = input(\"Enter a new password (8 to 12 characters): \")\n",
    "if 8 <= len(pw) <= 12:\n",
    "    confirm_pw = input(\"Re-enter your password to confirm: \")\n",
    "    if pw == confirm_pw:\n",
    "        print(\"Password Set.\")\n",
    "    else:\n",
    "        print(\"The passwords do not match.\")\n",
    "else:\n",
    "    print(\"Password must be between 8 and 12 characters long.\")"
   ]
  },
  {
   "cell_type": "markdown",
   "id": "52687bd8",
   "metadata": {},
   "source": [
    "4. Modify your program again so that the chosen password cannot be one of a list of common passwords, defined thus:\n",
    "BAD_PASSWORDS = ['password', 'letmein', 'sesame', 'hello', 'justinbieber']"
   ]
  },
  {
   "cell_type": "code",
   "execution_count": 23,
   "id": "7bd8aa7e",
   "metadata": {},
   "outputs": [
    {
     "name": "stdout",
     "output_type": "stream",
     "text": [
      "Enter password: justonbeiber\n",
      "Re-enter your password to confirm: justonbeiber\n",
      "Password Set.\n"
     ]
    }
   ],
   "source": [
    "BAD_PASSWORDS = ['password', 'letmein', 'sesame', 'hello', 'justinbieber']\n",
    "pw = input(\"Enter password: \")\n",
    "if pw in BAD_PASSWORDS:\n",
    "    print(\"Sorry very weak password, try again!\")\n",
    "if 8 <= len(pw) <=12:\n",
    "    confirm_pw = input(\"Re-enter your password to confirm: \")\n",
    "    if pw == confirm_pw:\n",
    "        print(\"Password Set.\")\n",
    "    else:\n",
    "        print(\"The passwords do not match.\")\n",
    "else:\n",
    "    print(\"Check password length!\")"
   ]
  },
  {
   "cell_type": "markdown",
   "id": "fa2481f1",
   "metadata": {},
   "source": [
    "5. Modify your program a final time so that it executes until the user successfully chooses a password. That is, if the password chosen fails any of the checks, the program should return to asking for the password the first time. "
   ]
  },
  {
   "cell_type": "code",
   "execution_count": 20,
   "id": "3e4c8783",
   "metadata": {},
   "outputs": [
    {
     "name": "stdout",
     "output_type": "stream",
     "text": [
      "Enter password: sesame\n",
      "Sorry very weak password, try again!\n",
      "Enter password: hehehehe\n",
      "Re-enter your password to confirm: hahahaha\n",
      "The passwords do not match.\n",
      "Enter password: hihi\n",
      "Check password length!\n",
      "Enter password: hahhahaa\n",
      "Re-enter your password to confirm: hahhahaa\n",
      "Password Set.\n"
     ]
    }
   ],
   "source": [
    "BAD_PASSWORDS = ['password', 'letmein', 'sesame', 'hello', 'justinbieber']\n",
    "while True:\n",
    "    pw = input(\"Enter password: \")\n",
    "    if pw in BAD_PASSWORDS:\n",
    "        print(\"Sorry very weak password, try again!\")\n",
    "        continue\n",
    "    if 8 <= len(pw) <=12:\n",
    "        confirm_pw = input(\"Re-enter your password to confirm: \")\n",
    "        if pw == confirm_pw:\n",
    "            print(\"Password Set.\")\n",
    "            break\n",
    "        else:\n",
    "            print(\"The passwords do not match.\")\n",
    "    else:\n",
    "        print(\"Check password length!\")"
   ]
  },
  {
   "cell_type": "markdown",
   "id": "3db6a171",
   "metadata": {},
   "source": [
    "6. Write a program that displays the \"Seven Times Table\". That is, the result of multiplying 7 by every number from 0 to 12 inclusive. The output might start: 0x7=0\n",
    "1x7=7\n",
    "2 x 7 = 14\n",
    "and so on."
   ]
  },
  {
   "cell_type": "code",
   "execution_count": 24,
   "id": "b4da8fb6",
   "metadata": {},
   "outputs": [
    {
     "name": "stdout",
     "output_type": "stream",
     "text": [
      "0 x 7 = 0\n",
      "1 x 7 = 7\n",
      "2 x 7 = 14\n",
      "3 x 7 = 21\n",
      "4 x 7 = 28\n",
      "5 x 7 = 35\n",
      "6 x 7 = 42\n",
      "7 x 7 = 49\n",
      "8 x 7 = 56\n",
      "9 x 7 = 63\n",
      "10 x 7 = 70\n",
      "11 x 7 = 77\n",
      "12 x 7 = 84\n"
     ]
    }
   ],
   "source": [
    "for i in range(13):\n",
    "    result = i * 7\n",
    "    print(f\"{i} x 7 = {result}\")\n"
   ]
  },
  {
   "cell_type": "markdown",
   "id": "81cd65be",
   "metadata": {},
   "source": [
    "7. Modify your \"Times Table\" program so that the user enters the number of the table they require. This number should be between 0 and 12 inclusive."
   ]
  },
  {
   "cell_type": "code",
   "execution_count": 25,
   "id": "717aee0a",
   "metadata": {},
   "outputs": [
    {
     "name": "stdout",
     "output_type": "stream",
     "text": [
      "Enter the number for the times table (0 to 12 inclusive): 9\n",
      "0 x 9 = 0\n",
      "1 x 9 = 9\n",
      "2 x 9 = 18\n",
      "3 x 9 = 27\n",
      "4 x 9 = 36\n",
      "5 x 9 = 45\n",
      "6 x 9 = 54\n",
      "7 x 9 = 63\n",
      "8 x 9 = 72\n",
      "9 x 9 = 81\n",
      "10 x 9 = 90\n",
      "11 x 9 = 99\n",
      "12 x 9 = 108\n"
     ]
    }
   ],
   "source": [
    "num = int(input(\"Enter the number for the times table (0 to 12 inclusive): \"))\n",
    "\n",
    "if 0 <= num <= 12:\n",
    "    for i in range(13):\n",
    "        result = i * num\n",
    "        print(f\"{i} x {num} = {result}\")\n",
    "else:\n",
    "    print(\"Please enter a number between 0 and 12 inclusive.\")\n"
   ]
  },
  {
   "cell_type": "markdown",
   "id": "8ae7ec39",
   "metadata": {},
   "source": [
    "8. Modify the \"Times Table\" again so that the user still enters the number of the table, but if this number is negative the table is printed backwards. So entering \"-7\" would produce the Seven Times Table starting at \"12 times\" down to \"0 times\"."
   ]
  },
  {
   "cell_type": "code",
   "execution_count": 32,
   "id": "8fa4b118",
   "metadata": {},
   "outputs": [
    {
     "name": "stdout",
     "output_type": "stream",
     "text": [
      "Enter the number for the times table (0 to 12 inclusive): -7\n",
      "12 x 7 = 84\n",
      "11 x 7 = 77\n",
      "10 x 7 = 70\n",
      "9 x 7 = 63\n",
      "8 x 7 = 56\n",
      "7 x 7 = 49\n",
      "6 x 7 = 42\n",
      "5 x 7 = 35\n",
      "4 x 7 = 28\n",
      "3 x 7 = 21\n",
      "2 x 7 = 14\n",
      "1 x 7 = 7\n",
      "0 x 7 = 0\n"
     ]
    }
   ],
   "source": [
    "num = int(input(\"Enter the number for the times table (0 to 12 inclusive): \"))\n",
    "if num<0:\n",
    "    for i in range(12,-1,-1):\n",
    "        result = i * -num\n",
    "        print(f\"{i} x {-num} = {result}\")\n",
    "elif 0<= num <= 12:\n",
    "    for i in range(13):\n",
    "        result = i * num\n",
    "        print(f\"{i} x {num} = {result}\")\n"
   ]
  }
 ],
 "metadata": {
  "kernelspec": {
   "display_name": "Python 3 (ipykernel)",
   "language": "python",
   "name": "python3"
  },
  "language_info": {
   "codemirror_mode": {
    "name": "ipython",
    "version": 3
   },
   "file_extension": ".py",
   "mimetype": "text/x-python",
   "name": "python",
   "nbconvert_exporter": "python",
   "pygments_lexer": "ipython3",
   "version": "3.9.13"
  }
 },
 "nbformat": 4,
 "nbformat_minor": 5
}
