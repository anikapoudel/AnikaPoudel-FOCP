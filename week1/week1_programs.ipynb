{
 "cells": [
  {
   "cell_type": "markdown",
   "id": "245c3af0",
   "metadata": {},
   "source": [
    "1. Write a program that prints a cheery message (such as \"Hello World\") on the screen. Run it, and note that you have taken the first step to becoming a programmer!"
   ]
  },
  {
   "cell_type": "code",
   "execution_count": null,
   "id": "50fc8a16",
   "metadata": {},
   "outputs": [
    {
     "name": "stdout",
     "output_type": "stream",
     "text": [
      "hello world\n"
     ]
    }
   ],
   "source": [
    "print(\"hello world\")"
   ]
  },
  {
   "cell_type": "markdown",
   "id": "299f5e45",
   "metadata": {},
   "source": [
    "2. Make a copy of the previous program, and modify it so that it displays your name. So if your name is Herbert the message should become:\n",
    "Hello, Herbert!"
   ]
  },
  {
   "cell_type": "code",
   "execution_count": 1,
   "id": "9e6b4bc1",
   "metadata": {},
   "outputs": [
    {
     "name": "stdout",
     "output_type": "stream",
     "text": [
      "hello, anika!\n"
     ]
    }
   ],
   "source": [
    "print(\"hello, anika!\")"
   ]
  },
  {
   "cell_type": "markdown",
   "id": "a066e74f",
   "metadata": {},
   "source": [
    "3. Over the summer, temperatures in Yorkshire reached 38.4C. Write a program that converts this value in Celsius to the equivalent temperature in Fahrenheit, and then displays both."
   ]
  },
  {
   "cell_type": "code",
   "execution_count": 3,
   "id": "3c3d2386",
   "metadata": {},
   "outputs": [
    {
     "name": "stdout",
     "output_type": "stream",
     "text": [
      "101.12\n"
     ]
    }
   ],
   "source": [
    "celsius = 38.4\n",
    "fahrenheit = (1.8 * celsius) + 32.\n",
    "print(fahrenheit)"
   ]
  },
  {
   "cell_type": "markdown",
   "id": "f64699a2",
   "metadata": {},
   "source": [
    "4. In a long career for Yorkshire, Geoffrey Boycott played 609 matches, batted 1014 times, was not out 162 times, and scored 48426 runs. Write a program to calculate and display Boycott's batting average.\n",
    "Note: A batting average is the number of runs scored divided by the number of completed innings (i.e. the total times batted minus the times not out)."
   ]
  },
  {
   "cell_type": "code",
   "execution_count": 6,
   "id": "71a6293f",
   "metadata": {},
   "outputs": [
    {
     "name": "stdout",
     "output_type": "stream",
     "text": [
      "Boycott's batting average is: 56.83802816901409\n"
     ]
    }
   ],
   "source": [
    "matches_played=609\n",
    "times_batted=1014\n",
    "not_out=162\n",
    "runs_scored=48426\n",
    "completed_innings=times_batted-not_out\n",
    "batting_avg=runs_scored/completed_innings\n",
    "print(f\"Boycott's batting average is: {batting_avg}\")"
   ]
  },
  {
   "cell_type": "markdown",
   "id": "12090c4a",
   "metadata": {},
   "source": [
    "5. The Head of Computing at the University of Poppleton is tasked with dividing a group of students into lab groups. A lab group is 24 students, since this is the number of PCs in a lab. Write a program that calculates how many groups are needed for the following number of students: 113, 175, 12. Display how many full groups there will be, and how many students will be in the smaller \"left over\" group."
   ]
  },
  {
   "cell_type": "code",
   "execution_count": 7,
   "id": "9646efc9",
   "metadata": {},
   "outputs": [
    {
     "name": "stdout",
     "output_type": "stream",
     "text": [
      "For 113 students, 4 full groups and 17 students in the leftover group.\n",
      "For 175 students, 7 full groups and 7 students in the leftover group.\n",
      "For 12 students, 0 full groups and 12 students in the leftover group.\n"
     ]
    }
   ],
   "source": [
    "s1=113\n",
    "s2=175\n",
    "s3=12\n",
    "s_per_group=24\n",
    "group1=s1//s_per_group\n",
    "group2=s2//s_per_group\n",
    "group3=s3//s_per_group\n",
    "leftover1=s1%s_per_group\n",
    "leftover2=s2%s_per_group\n",
    "leftover3=s3%s_per_group\n",
    "print(f\"For {s1} students, {group1} full groups and {leftover1} students in the leftover group.\")\n",
    "print(f\"For {s2} students, {group2} full groups and {leftover2} students in the leftover group.\")\n",
    "print(f\"For {s3} students, {group3} full groups and {leftover3} students in the leftover group.\")"
   ]
  }
 ],
 "metadata": {
  "kernelspec": {
   "display_name": "Python 3 (ipykernel)",
   "language": "python",
   "name": "python3"
  },
  "language_info": {
   "codemirror_mode": {
    "name": "ipython",
    "version": 3
   },
   "file_extension": ".py",
   "mimetype": "text/x-python",
   "name": "python",
   "nbconvert_exporter": "python",
   "pygments_lexer": "ipython3",
   "version": "3.9.13"
  }
 },
 "nbformat": 4,
 "nbformat_minor": 5
}
